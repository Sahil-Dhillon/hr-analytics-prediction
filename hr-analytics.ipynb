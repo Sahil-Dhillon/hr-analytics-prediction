{
 "cells": [
  {
   "cell_type": "markdown",
   "id": "motivated-mining",
   "metadata": {
    "papermill": {
     "duration": 0.02547,
     "end_time": "2021-09-09T10:10:55.853839",
     "exception": false,
     "start_time": "2021-09-09T10:10:55.828369",
     "status": "completed"
    },
    "tags": []
   },
   "source": [
    " # HR Employee Prediction (i.e. whether they leave the company or continue to work) "
   ]
  },
  {
   "cell_type": "code",
   "execution_count": 6,
   "id": "funny-fraud",
   "metadata": {
    "_cell_guid": "b1076dfc-b9ad-4769-8c92-a6c4dae69d19",
    "_uuid": "8f2839f25d086af736a60e9eeb907d3b93b6e0e5",
    "execution": {
     "iopub.execute_input": "2021-09-09T10:10:56.012010Z",
     "iopub.status.busy": "2021-09-09T10:10:56.011345Z",
     "iopub.status.idle": "2021-09-09T10:10:56.023841Z",
     "shell.execute_reply": "2021-09-09T10:10:56.022941Z",
     "shell.execute_reply.started": "2021-06-15T04:37:45.015298Z"
    },
    "papermill": {
     "duration": 0.047958,
     "end_time": "2021-09-09T10:10:56.024053",
     "exception": false,
     "start_time": "2021-09-09T10:10:55.976095",
     "status": "completed"
    },
    "tags": []
   },
   "outputs": [],
   "source": [
    "import numpy as np \n",
    "import pandas as pd \n",
    "import matplotlib.pyplot as plt\n",
    "import seaborn as sns\n",
    "import pickle"
   ]
  },
  {
   "cell_type": "markdown",
   "id": "greek-composer",
   "metadata": {
    "papermill": {
     "duration": 0.024374,
     "end_time": "2021-09-09T10:10:56.075077",
     "exception": false,
     "start_time": "2021-09-09T10:10:56.050703",
     "status": "completed"
    },
    "tags": []
   },
   "source": [
    "# Loading Data"
   ]
  },
  {
   "cell_type": "code",
   "execution_count": 7,
   "id": "ranking-muslim",
   "metadata": {
    "execution": {
     "iopub.execute_input": "2021-09-09T10:10:56.129755Z",
     "iopub.status.busy": "2021-09-09T10:10:56.129078Z",
     "iopub.status.idle": "2021-09-09T10:10:56.194376Z",
     "shell.execute_reply": "2021-09-09T10:10:56.193677Z",
     "shell.execute_reply.started": "2021-06-15T04:42:23.135485Z"
    },
    "papermill": {
     "duration": 0.094646,
     "end_time": "2021-09-09T10:10:56.194521",
     "exception": false,
     "start_time": "2021-09-09T10:10:56.099875",
     "status": "completed"
    },
    "tags": []
   },
   "outputs": [
    {
     "data": {
      "text/html": [
       "<div>\n",
       "<style scoped>\n",
       "    .dataframe tbody tr th:only-of-type {\n",
       "        vertical-align: middle;\n",
       "    }\n",
       "\n",
       "    .dataframe tbody tr th {\n",
       "        vertical-align: top;\n",
       "    }\n",
       "\n",
       "    .dataframe thead th {\n",
       "        text-align: right;\n",
       "    }\n",
       "</style>\n",
       "<table border=\"1\" class=\"dataframe\">\n",
       "  <thead>\n",
       "    <tr style=\"text-align: right;\">\n",
       "      <th></th>\n",
       "      <th>satisfaction_level</th>\n",
       "      <th>last_evaluation</th>\n",
       "      <th>number_project</th>\n",
       "      <th>average_montly_hours</th>\n",
       "      <th>time_spend_company</th>\n",
       "      <th>Work_accident</th>\n",
       "      <th>left</th>\n",
       "      <th>promotion_last_5years</th>\n",
       "      <th>Department</th>\n",
       "      <th>salary</th>\n",
       "    </tr>\n",
       "  </thead>\n",
       "  <tbody>\n",
       "    <tr>\n",
       "      <th>0</th>\n",
       "      <td>0.38</td>\n",
       "      <td>0.53</td>\n",
       "      <td>2</td>\n",
       "      <td>157</td>\n",
       "      <td>3</td>\n",
       "      <td>0</td>\n",
       "      <td>1</td>\n",
       "      <td>0</td>\n",
       "      <td>sales</td>\n",
       "      <td>low</td>\n",
       "    </tr>\n",
       "    <tr>\n",
       "      <th>1</th>\n",
       "      <td>0.80</td>\n",
       "      <td>0.86</td>\n",
       "      <td>5</td>\n",
       "      <td>262</td>\n",
       "      <td>6</td>\n",
       "      <td>0</td>\n",
       "      <td>1</td>\n",
       "      <td>0</td>\n",
       "      <td>sales</td>\n",
       "      <td>medium</td>\n",
       "    </tr>\n",
       "    <tr>\n",
       "      <th>2</th>\n",
       "      <td>0.11</td>\n",
       "      <td>0.88</td>\n",
       "      <td>7</td>\n",
       "      <td>272</td>\n",
       "      <td>4</td>\n",
       "      <td>0</td>\n",
       "      <td>1</td>\n",
       "      <td>0</td>\n",
       "      <td>sales</td>\n",
       "      <td>medium</td>\n",
       "    </tr>\n",
       "    <tr>\n",
       "      <th>3</th>\n",
       "      <td>0.72</td>\n",
       "      <td>0.87</td>\n",
       "      <td>5</td>\n",
       "      <td>223</td>\n",
       "      <td>5</td>\n",
       "      <td>0</td>\n",
       "      <td>1</td>\n",
       "      <td>0</td>\n",
       "      <td>sales</td>\n",
       "      <td>low</td>\n",
       "    </tr>\n",
       "    <tr>\n",
       "      <th>4</th>\n",
       "      <td>0.37</td>\n",
       "      <td>0.52</td>\n",
       "      <td>2</td>\n",
       "      <td>159</td>\n",
       "      <td>3</td>\n",
       "      <td>0</td>\n",
       "      <td>1</td>\n",
       "      <td>0</td>\n",
       "      <td>sales</td>\n",
       "      <td>low</td>\n",
       "    </tr>\n",
       "    <tr>\n",
       "      <th>...</th>\n",
       "      <td>...</td>\n",
       "      <td>...</td>\n",
       "      <td>...</td>\n",
       "      <td>...</td>\n",
       "      <td>...</td>\n",
       "      <td>...</td>\n",
       "      <td>...</td>\n",
       "      <td>...</td>\n",
       "      <td>...</td>\n",
       "      <td>...</td>\n",
       "    </tr>\n",
       "    <tr>\n",
       "      <th>14994</th>\n",
       "      <td>0.40</td>\n",
       "      <td>0.57</td>\n",
       "      <td>2</td>\n",
       "      <td>151</td>\n",
       "      <td>3</td>\n",
       "      <td>0</td>\n",
       "      <td>1</td>\n",
       "      <td>0</td>\n",
       "      <td>support</td>\n",
       "      <td>low</td>\n",
       "    </tr>\n",
       "    <tr>\n",
       "      <th>14995</th>\n",
       "      <td>0.37</td>\n",
       "      <td>0.48</td>\n",
       "      <td>2</td>\n",
       "      <td>160</td>\n",
       "      <td>3</td>\n",
       "      <td>0</td>\n",
       "      <td>1</td>\n",
       "      <td>0</td>\n",
       "      <td>support</td>\n",
       "      <td>low</td>\n",
       "    </tr>\n",
       "    <tr>\n",
       "      <th>14996</th>\n",
       "      <td>0.37</td>\n",
       "      <td>0.53</td>\n",
       "      <td>2</td>\n",
       "      <td>143</td>\n",
       "      <td>3</td>\n",
       "      <td>0</td>\n",
       "      <td>1</td>\n",
       "      <td>0</td>\n",
       "      <td>support</td>\n",
       "      <td>low</td>\n",
       "    </tr>\n",
       "    <tr>\n",
       "      <th>14997</th>\n",
       "      <td>0.11</td>\n",
       "      <td>0.96</td>\n",
       "      <td>6</td>\n",
       "      <td>280</td>\n",
       "      <td>4</td>\n",
       "      <td>0</td>\n",
       "      <td>1</td>\n",
       "      <td>0</td>\n",
       "      <td>support</td>\n",
       "      <td>low</td>\n",
       "    </tr>\n",
       "    <tr>\n",
       "      <th>14998</th>\n",
       "      <td>0.37</td>\n",
       "      <td>0.52</td>\n",
       "      <td>2</td>\n",
       "      <td>158</td>\n",
       "      <td>3</td>\n",
       "      <td>0</td>\n",
       "      <td>1</td>\n",
       "      <td>0</td>\n",
       "      <td>support</td>\n",
       "      <td>low</td>\n",
       "    </tr>\n",
       "  </tbody>\n",
       "</table>\n",
       "<p>14999 rows × 10 columns</p>\n",
       "</div>"
      ],
      "text/plain": [
       "       satisfaction_level  last_evaluation  number_project  \\\n",
       "0                    0.38             0.53               2   \n",
       "1                    0.80             0.86               5   \n",
       "2                    0.11             0.88               7   \n",
       "3                    0.72             0.87               5   \n",
       "4                    0.37             0.52               2   \n",
       "...                   ...              ...             ...   \n",
       "14994                0.40             0.57               2   \n",
       "14995                0.37             0.48               2   \n",
       "14996                0.37             0.53               2   \n",
       "14997                0.11             0.96               6   \n",
       "14998                0.37             0.52               2   \n",
       "\n",
       "       average_montly_hours  time_spend_company  Work_accident  left  \\\n",
       "0                       157                   3              0     1   \n",
       "1                       262                   6              0     1   \n",
       "2                       272                   4              0     1   \n",
       "3                       223                   5              0     1   \n",
       "4                       159                   3              0     1   \n",
       "...                     ...                 ...            ...   ...   \n",
       "14994                   151                   3              0     1   \n",
       "14995                   160                   3              0     1   \n",
       "14996                   143                   3              0     1   \n",
       "14997                   280                   4              0     1   \n",
       "14998                   158                   3              0     1   \n",
       "\n",
       "       promotion_last_5years Department  salary  \n",
       "0                          0      sales     low  \n",
       "1                          0      sales  medium  \n",
       "2                          0      sales  medium  \n",
       "3                          0      sales     low  \n",
       "4                          0      sales     low  \n",
       "...                      ...        ...     ...  \n",
       "14994                      0    support     low  \n",
       "14995                      0    support     low  \n",
       "14996                      0    support     low  \n",
       "14997                      0    support     low  \n",
       "14998                      0    support     low  \n",
       "\n",
       "[14999 rows x 10 columns]"
      ]
     },
     "metadata": {},
     "output_type": "display_data"
    }
   ],
   "source": [
    "data=pd.read_csv('./hr-data.csv')\n",
    "display(data)"
   ]
  },
  {
   "cell_type": "code",
   "execution_count": 8,
   "id": "251c037b",
   "metadata": {},
   "outputs": [
    {
     "name": "stdout",
     "output_type": "stream",
     "text": [
      "<class 'pandas.core.frame.DataFrame'>\n",
      "RangeIndex: 14999 entries, 0 to 14998\n",
      "Data columns (total 10 columns):\n",
      " #   Column                 Non-Null Count  Dtype  \n",
      "---  ------                 --------------  -----  \n",
      " 0   satisfaction_level     14999 non-null  float64\n",
      " 1   last_evaluation        14999 non-null  float64\n",
      " 2   number_project         14999 non-null  int64  \n",
      " 3   average_montly_hours   14999 non-null  int64  \n",
      " 4   time_spend_company     14999 non-null  int64  \n",
      " 5   Work_accident          14999 non-null  int64  \n",
      " 6   left                   14999 non-null  int64  \n",
      " 7   promotion_last_5years  14999 non-null  int64  \n",
      " 8   Department             14999 non-null  object \n",
      " 9   salary                 14999 non-null  object \n",
      "dtypes: float64(2), int64(6), object(2)\n",
      "memory usage: 1.1+ MB\n"
     ]
    }
   ],
   "source": [
    "data.info()"
   ]
  },
  {
   "cell_type": "code",
   "execution_count": 9,
   "id": "1f1788ea",
   "metadata": {},
   "outputs": [
    {
     "data": {
      "text/plain": [
       "satisfaction_level       0\n",
       "last_evaluation          0\n",
       "number_project           0\n",
       "average_montly_hours     0\n",
       "time_spend_company       0\n",
       "Work_accident            0\n",
       "left                     0\n",
       "promotion_last_5years    0\n",
       "Department               0\n",
       "salary                   0\n",
       "dtype: int64"
      ]
     },
     "execution_count": 9,
     "metadata": {},
     "output_type": "execute_result"
    }
   ],
   "source": [
    "data.isnull().sum()"
   ]
  },
  {
   "cell_type": "markdown",
   "id": "different-science",
   "metadata": {
    "papermill": {
     "duration": 0.024511,
     "end_time": "2021-09-09T10:10:56.244142",
     "exception": false,
     "start_time": "2021-09-09T10:10:56.219631",
     "status": "completed"
    },
    "tags": []
   },
   "source": [
    "# Select Left data from the column"
   ]
  },
  {
   "cell_type": "code",
   "execution_count": 10,
   "id": "difficult-pressing",
   "metadata": {
    "execution": {
     "iopub.execute_input": "2021-09-09T10:10:56.301000Z",
     "iopub.status.busy": "2021-09-09T10:10:56.300080Z",
     "iopub.status.idle": "2021-09-09T10:10:56.323001Z",
     "shell.execute_reply": "2021-09-09T10:10:56.323512Z",
     "shell.execute_reply.started": "2021-06-15T04:43:00.591145Z"
    },
    "papermill": {
     "duration": 0.054799,
     "end_time": "2021-09-09T10:10:56.323703",
     "exception": false,
     "start_time": "2021-09-09T10:10:56.268904",
     "status": "completed"
    },
    "tags": []
   },
   "outputs": [
    {
     "name": "stdout",
     "output_type": "stream",
     "text": [
      "No. of employees left the company =  3571\n"
     ]
    }
   ],
   "source": [
    "left=data[data.left==1]\n",
    "print(\"No. of employees left the company = \",left.shape[0])"
   ]
  },
  {
   "cell_type": "markdown",
   "id": "weird-devices",
   "metadata": {
    "papermill": {
     "duration": 0.024888,
     "end_time": "2021-09-09T10:10:56.374728",
     "exception": false,
     "start_time": "2021-09-09T10:10:56.349840",
     "status": "completed"
    },
    "tags": []
   },
   "source": [
    "# Select Retained data from the column"
   ]
  },
  {
   "cell_type": "code",
   "execution_count": 11,
   "id": "adolescent-basics",
   "metadata": {
    "execution": {
     "iopub.execute_input": "2021-09-09T10:10:56.430352Z",
     "iopub.status.busy": "2021-09-09T10:10:56.429727Z",
     "iopub.status.idle": "2021-09-09T10:10:56.434166Z",
     "shell.execute_reply": "2021-09-09T10:10:56.434655Z",
     "shell.execute_reply.started": "2021-06-15T04:43:33.746015Z"
    },
    "papermill": {
     "duration": 0.034986,
     "end_time": "2021-09-09T10:10:56.434825",
     "exception": false,
     "start_time": "2021-09-09T10:10:56.399839",
     "status": "completed"
    },
    "tags": []
   },
   "outputs": [
    {
     "name": "stdout",
     "output_type": "stream",
     "text": [
      "No. of employees retained in the company =  11428\n"
     ]
    }
   ],
   "source": [
    "retained=data[data.left==0]\n",
    "print(\"No. of employees retained in the company = \",retained.shape[0])"
   ]
  },
  {
   "cell_type": "markdown",
   "id": "inclusive-intake",
   "metadata": {
    "papermill": {
     "duration": 0.025538,
     "end_time": "2021-09-09T10:10:56.486177",
     "exception": false,
     "start_time": "2021-09-09T10:10:56.460639",
     "status": "completed"
    },
    "tags": []
   },
   "source": [
    "# Group Data on Left base value"
   ]
  },
  {
   "cell_type": "code",
   "execution_count": 12,
   "id": "chief-africa",
   "metadata": {
    "execution": {
     "iopub.execute_input": "2021-09-09T10:10:56.546105Z",
     "iopub.status.busy": "2021-09-09T10:10:56.545403Z",
     "iopub.status.idle": "2021-09-09T10:10:56.561647Z",
     "shell.execute_reply": "2021-09-09T10:10:56.561127Z",
     "shell.execute_reply.started": "2021-06-15T04:43:57.346217Z"
    },
    "papermill": {
     "duration": 0.050094,
     "end_time": "2021-09-09T10:10:56.561811",
     "exception": false,
     "start_time": "2021-09-09T10:10:56.511717",
     "status": "completed"
    },
    "tags": []
   },
   "outputs": [
    {
     "data": {
      "text/html": [
       "<div>\n",
       "<style scoped>\n",
       "    .dataframe tbody tr th:only-of-type {\n",
       "        vertical-align: middle;\n",
       "    }\n",
       "\n",
       "    .dataframe tbody tr th {\n",
       "        vertical-align: top;\n",
       "    }\n",
       "\n",
       "    .dataframe thead th {\n",
       "        text-align: right;\n",
       "    }\n",
       "</style>\n",
       "<table border=\"1\" class=\"dataframe\">\n",
       "  <thead>\n",
       "    <tr style=\"text-align: right;\">\n",
       "      <th></th>\n",
       "      <th>satisfaction_level</th>\n",
       "      <th>last_evaluation</th>\n",
       "      <th>number_project</th>\n",
       "      <th>average_montly_hours</th>\n",
       "      <th>time_spend_company</th>\n",
       "      <th>Work_accident</th>\n",
       "      <th>promotion_last_5years</th>\n",
       "    </tr>\n",
       "    <tr>\n",
       "      <th>left</th>\n",
       "      <th></th>\n",
       "      <th></th>\n",
       "      <th></th>\n",
       "      <th></th>\n",
       "      <th></th>\n",
       "      <th></th>\n",
       "      <th></th>\n",
       "    </tr>\n",
       "  </thead>\n",
       "  <tbody>\n",
       "    <tr>\n",
       "      <th>0</th>\n",
       "      <td>0.666810</td>\n",
       "      <td>0.715473</td>\n",
       "      <td>3.786664</td>\n",
       "      <td>199.060203</td>\n",
       "      <td>3.380032</td>\n",
       "      <td>0.175009</td>\n",
       "      <td>0.026251</td>\n",
       "    </tr>\n",
       "    <tr>\n",
       "      <th>1</th>\n",
       "      <td>0.440098</td>\n",
       "      <td>0.718113</td>\n",
       "      <td>3.855503</td>\n",
       "      <td>207.419210</td>\n",
       "      <td>3.876505</td>\n",
       "      <td>0.047326</td>\n",
       "      <td>0.005321</td>\n",
       "    </tr>\n",
       "  </tbody>\n",
       "</table>\n",
       "</div>"
      ],
      "text/plain": [
       "      satisfaction_level  last_evaluation  number_project  \\\n",
       "left                                                        \n",
       "0               0.666810         0.715473        3.786664   \n",
       "1               0.440098         0.718113        3.855503   \n",
       "\n",
       "      average_montly_hours  time_spend_company  Work_accident  \\\n",
       "left                                                            \n",
       "0               199.060203            3.380032       0.175009   \n",
       "1               207.419210            3.876505       0.047326   \n",
       "\n",
       "      promotion_last_5years  \n",
       "left                         \n",
       "0                  0.026251  \n",
       "1                  0.005321  "
      ]
     },
     "execution_count": 12,
     "metadata": {},
     "output_type": "execute_result"
    }
   ],
   "source": [
    "data.groupby('left').mean()"
   ]
  },
  {
   "cell_type": "markdown",
   "id": "returning-rough",
   "metadata": {
    "papermill": {
     "duration": 0.025921,
     "end_time": "2021-09-09T10:10:56.614332",
     "exception": false,
     "start_time": "2021-09-09T10:10:56.588411",
     "status": "completed"
    },
    "tags": []
   },
   "source": [
    "# Bar Chart Showing Impact of Employees Salaries on Retention"
   ]
  },
  {
   "cell_type": "code",
   "execution_count": 13,
   "id": "alternative-heath",
   "metadata": {
    "execution": {
     "iopub.execute_input": "2021-09-09T10:10:56.676103Z",
     "iopub.status.busy": "2021-09-09T10:10:56.675401Z",
     "iopub.status.idle": "2021-09-09T10:10:56.897189Z",
     "shell.execute_reply": "2021-09-09T10:10:56.897681Z",
     "shell.execute_reply.started": "2021-06-15T04:46:20.273096Z"
    },
    "papermill": {
     "duration": 0.257187,
     "end_time": "2021-09-09T10:10:56.897906",
     "exception": false,
     "start_time": "2021-09-09T10:10:56.640719",
     "status": "completed"
    },
    "tags": []
   },
   "outputs": [
    {
     "data": {
      "image/png": "[encoded data removed]",
      "text/plain": [
       "<Figure size 432x288 with 1 Axes>"
      ]
     },
     "metadata": {
      "needs_background": "light"
     },
     "output_type": "display_data"
    }
   ],
   "source": [
    "plt.title('Count of salary vs left')\n",
    "sns.countplot(data=data, x='salary', hue='left');"
   ]
  },
  {
   "cell_type": "markdown",
   "id": "unable-transsexual",
   "metadata": {
    "papermill": {
     "duration": 0.031888,
     "end_time": "2021-09-09T10:10:56.966022",
     "exception": false,
     "start_time": "2021-09-09T10:10:56.934134",
     "status": "completed"
    },
    "tags": []
   },
   "source": [
    "\n",
    "# Bar Chart Showing Correlation between department and employee retention"
   ]
  },
  {
   "cell_type": "code",
   "execution_count": 14,
   "id": "signed-salon",
   "metadata": {
    "execution": {
     "iopub.execute_input": "2021-09-09T10:10:57.033608Z",
     "iopub.status.busy": "2021-09-09T10:10:57.032511Z",
     "iopub.status.idle": "2021-09-09T10:10:57.264307Z",
     "shell.execute_reply": "2021-09-09T10:10:57.263727Z",
     "shell.execute_reply.started": "2021-06-15T04:48:02.598517Z"
    },
    "papermill": {
     "duration": 0.267779,
     "end_time": "2021-09-09T10:10:57.264452",
     "exception": false,
     "start_time": "2021-09-09T10:10:56.996673",
     "status": "completed"
    },
    "tags": []
   },
   "outputs": [
    {
     "data": {
      "image/png": "[encoded data removed]",
      "text/plain": [
       "<Figure size 1440x720 with 1 Axes>"
      ]
     },
     "metadata": {
      "needs_background": "light"
     },
     "output_type": "display_data"
    }
   ],
   "source": [
    "plt.figure(figsize=(20,10))\n",
    "plt.title('Count of Department vs left')\n",
    "sns.countplot(data=data, x='Department', hue='left');"
   ]
  },
  {
   "cell_type": "code",
   "execution_count": 15,
   "id": "35ee3a14",
   "metadata": {},
   "outputs": [
    {
     "data": {
      "text/plain": [
       "<AxesSubplot:title={'center':'Count of number project vs time spend company vs left'}, xlabel='number_project', ylabel='years'>"
      ]
     },
     "execution_count": 15,
     "metadata": {},
     "output_type": "execute_result"
    },
    {
     "data": {
      "image/png": "[encoded data removed]",
      "text/plain": [
       "<Figure size 432x288 with 1 Axes>"
      ]
     },
     "metadata": {
      "needs_background": "light"
     },
     "output_type": "display_data"
    }
   ],
   "source": [
    "plt.title('Count of number project vs time spend company vs left')\n",
    "c=sns.countplot(data=data, x='number_project', hue='left');\n",
    "c.set_ylabel(\"years\")\n",
    "c"
   ]
  },
  {
   "cell_type": "markdown",
   "id": "8abbb016",
   "metadata": {},
   "source": [
    "# Correlation"
   ]
  },
  {
   "cell_type": "code",
   "execution_count": 16,
   "id": "f1104c91",
   "metadata": {},
   "outputs": [
    {
     "data": {
      "image/png": "[encoded data removed]",
      "text/plain": [
       "<Figure size 432x288 with 2 Axes>"
      ]
     },
     "metadata": {
      "needs_background": "light"
     },
     "output_type": "display_data"
    }
   ],
   "source": [
    "sns.heatmap(data=data.corr(),annot=True);"
   ]
  },
  {
   "cell_type": "markdown",
   "id": "exposed-astronomy",
   "metadata": {
    "papermill": {
     "duration": 0.028076,
     "end_time": "2021-09-09T10:10:57.321169",
     "exception": false,
     "start_time": "2021-09-09T10:10:57.293093",
     "status": "completed"
    },
    "tags": []
   },
   "source": [
    "# Selecting Variables Which Impact Most on Employee Retention "
   ]
  },
  {
   "cell_type": "code",
   "execution_count": 17,
   "id": "honey-arbor",
   "metadata": {
    "execution": {
     "iopub.execute_input": "2021-09-09T10:10:57.389821Z",
     "iopub.status.busy": "2021-09-09T10:10:57.389183Z",
     "iopub.status.idle": "2021-09-09T10:10:57.393046Z",
     "shell.execute_reply": "2021-09-09T10:10:57.392495Z",
     "shell.execute_reply.started": "2021-06-15T04:48:30.039903Z"
    },
    "papermill": {
     "duration": 0.04349,
     "end_time": "2021-09-09T10:10:57.393182",
     "exception": false,
     "start_time": "2021-09-09T10:10:57.349692",
     "status": "completed"
    },
    "tags": []
   },
   "outputs": [
    {
     "data": {
      "text/html": [
       "<div>\n",
       "<style scoped>\n",
       "    .dataframe tbody tr th:only-of-type {\n",
       "        vertical-align: middle;\n",
       "    }\n",
       "\n",
       "    .dataframe tbody tr th {\n",
       "        vertical-align: top;\n",
       "    }\n",
       "\n",
       "    .dataframe thead th {\n",
       "        text-align: right;\n",
       "    }\n",
       "</style>\n",
       "<table border=\"1\" class=\"dataframe\">\n",
       "  <thead>\n",
       "    <tr style=\"text-align: right;\">\n",
       "      <th></th>\n",
       "      <th>satisfaction_level</th>\n",
       "      <th>average_montly_hours</th>\n",
       "      <th>time_spend_company</th>\n",
       "      <th>Work_accident</th>\n",
       "      <th>promotion_last_5years</th>\n",
       "      <th>salary</th>\n",
       "    </tr>\n",
       "  </thead>\n",
       "  <tbody>\n",
       "    <tr>\n",
       "      <th>0</th>\n",
       "      <td>0.38</td>\n",
       "      <td>157</td>\n",
       "      <td>3</td>\n",
       "      <td>0</td>\n",
       "      <td>0</td>\n",
       "      <td>low</td>\n",
       "    </tr>\n",
       "    <tr>\n",
       "      <th>1</th>\n",
       "      <td>0.80</td>\n",
       "      <td>262</td>\n",
       "      <td>6</td>\n",
       "      <td>0</td>\n",
       "      <td>0</td>\n",
       "      <td>medium</td>\n",
       "    </tr>\n",
       "    <tr>\n",
       "      <th>2</th>\n",
       "      <td>0.11</td>\n",
       "      <td>272</td>\n",
       "      <td>4</td>\n",
       "      <td>0</td>\n",
       "      <td>0</td>\n",
       "      <td>medium</td>\n",
       "    </tr>\n",
       "    <tr>\n",
       "      <th>3</th>\n",
       "      <td>0.72</td>\n",
       "      <td>223</td>\n",
       "      <td>5</td>\n",
       "      <td>0</td>\n",
       "      <td>0</td>\n",
       "      <td>low</td>\n",
       "    </tr>\n",
       "    <tr>\n",
       "      <th>4</th>\n",
       "      <td>0.37</td>\n",
       "      <td>159</td>\n",
       "      <td>3</td>\n",
       "      <td>0</td>\n",
       "      <td>0</td>\n",
       "      <td>low</td>\n",
       "    </tr>\n",
       "  </tbody>\n",
       "</table>\n",
       "</div>"
      ],
      "text/plain": [
       "   satisfaction_level  average_montly_hours  time_spend_company  \\\n",
       "0                0.38                   157                   3   \n",
       "1                0.80                   262                   6   \n",
       "2                0.11                   272                   4   \n",
       "3                0.72                   223                   5   \n",
       "4                0.37                   159                   3   \n",
       "\n",
       "   Work_accident  promotion_last_5years  salary  \n",
       "0              0                      0     low  \n",
       "1              0                      0  medium  \n",
       "2              0                      0  medium  \n",
       "3              0                      0     low  \n",
       "4              0                      0     low  "
      ]
     },
     "execution_count": 17,
     "metadata": {},
     "output_type": "execute_result"
    }
   ],
   "source": [
    "sel_data = data[['satisfaction_level','average_montly_hours','time_spend_company','Work_accident','promotion_last_5years','salary']]\n",
    "sel_data.head()"
   ]
  },
  {
   "cell_type": "markdown",
   "id": "norwegian-korea",
   "metadata": {
    "papermill": {
     "duration": 0.029799,
     "end_time": "2021-09-09T10:10:57.452214",
     "exception": false,
     "start_time": "2021-09-09T10:10:57.422415",
     "status": "completed"
    },
    "tags": []
   },
   "source": [
    "# Encoding Salary Variable "
   ]
  },
  {
   "cell_type": "code",
   "execution_count": 18,
   "id": "daily-contamination",
   "metadata": {
    "execution": {
     "iopub.execute_input": "2021-09-09T10:10:57.517069Z",
     "iopub.status.busy": "2021-09-09T10:10:57.516171Z",
     "iopub.status.idle": "2021-09-09T10:10:57.519964Z",
     "shell.execute_reply": "2021-09-09T10:10:57.520413Z",
     "shell.execute_reply.started": "2021-06-15T04:48:47.832531Z"
    },
    "papermill": {
     "duration": 0.039024,
     "end_time": "2021-09-09T10:10:57.520581",
     "exception": false,
     "start_time": "2021-09-09T10:10:57.481557",
     "status": "completed"
    },
    "tags": []
   },
   "outputs": [],
   "source": [
    "dummies = pd.get_dummies(sel_data.salary)\n",
    "data_encoded = pd.concat([sel_data,dummies],axis='columns')\n",
    "data_encoded=data_encoded.drop(['salary'],axis=1)"
   ]
  },
  {
   "cell_type": "markdown",
   "id": "annual-cameroon",
   "metadata": {
    "papermill": {
     "duration": 0.029527,
     "end_time": "2021-09-09T10:10:57.909842",
     "exception": false,
     "start_time": "2021-09-09T10:10:57.880315",
     "status": "completed"
    },
    "tags": []
   },
   "source": [
    "# Assign Data to X"
   ]
  },
  {
   "cell_type": "code",
   "execution_count": 19,
   "id": "fatal-controversy",
   "metadata": {
    "execution": {
     "iopub.execute_input": "2021-09-09T10:10:57.972360Z",
     "iopub.status.busy": "2021-09-09T10:10:57.971717Z",
     "iopub.status.idle": "2021-09-09T10:10:57.981880Z",
     "shell.execute_reply": "2021-09-09T10:10:57.982441Z",
     "shell.execute_reply.started": "2021-06-15T04:49:49.605377Z"
    },
    "papermill": {
     "duration": 0.042904,
     "end_time": "2021-09-09T10:10:57.982597",
     "exception": false,
     "start_time": "2021-09-09T10:10:57.939693",
     "status": "completed"
    },
    "tags": []
   },
   "outputs": [
    {
     "data": {
      "text/html": [
       "<div>\n",
       "<style scoped>\n",
       "    .dataframe tbody tr th:only-of-type {\n",
       "        vertical-align: middle;\n",
       "    }\n",
       "\n",
       "    .dataframe tbody tr th {\n",
       "        vertical-align: top;\n",
       "    }\n",
       "\n",
       "    .dataframe thead th {\n",
       "        text-align: right;\n",
       "    }\n",
       "</style>\n",
       "<table border=\"1\" class=\"dataframe\">\n",
       "  <thead>\n",
       "    <tr style=\"text-align: right;\">\n",
       "      <th></th>\n",
       "      <th>satisfaction_level</th>\n",
       "      <th>average_montly_hours</th>\n",
       "      <th>time_spend_company</th>\n",
       "      <th>Work_accident</th>\n",
       "      <th>promotion_last_5years</th>\n",
       "      <th>high</th>\n",
       "      <th>low</th>\n",
       "      <th>medium</th>\n",
       "    </tr>\n",
       "  </thead>\n",
       "  <tbody>\n",
       "    <tr>\n",
       "      <th>0</th>\n",
       "      <td>0.38</td>\n",
       "      <td>157</td>\n",
       "      <td>3</td>\n",
       "      <td>0</td>\n",
       "      <td>0</td>\n",
       "      <td>0</td>\n",
       "      <td>1</td>\n",
       "      <td>0</td>\n",
       "    </tr>\n",
       "    <tr>\n",
       "      <th>1</th>\n",
       "      <td>0.80</td>\n",
       "      <td>262</td>\n",
       "      <td>6</td>\n",
       "      <td>0</td>\n",
       "      <td>0</td>\n",
       "      <td>0</td>\n",
       "      <td>0</td>\n",
       "      <td>1</td>\n",
       "    </tr>\n",
       "    <tr>\n",
       "      <th>2</th>\n",
       "      <td>0.11</td>\n",
       "      <td>272</td>\n",
       "      <td>4</td>\n",
       "      <td>0</td>\n",
       "      <td>0</td>\n",
       "      <td>0</td>\n",
       "      <td>0</td>\n",
       "      <td>1</td>\n",
       "    </tr>\n",
       "    <tr>\n",
       "      <th>3</th>\n",
       "      <td>0.72</td>\n",
       "      <td>223</td>\n",
       "      <td>5</td>\n",
       "      <td>0</td>\n",
       "      <td>0</td>\n",
       "      <td>0</td>\n",
       "      <td>1</td>\n",
       "      <td>0</td>\n",
       "    </tr>\n",
       "    <tr>\n",
       "      <th>4</th>\n",
       "      <td>0.37</td>\n",
       "      <td>159</td>\n",
       "      <td>3</td>\n",
       "      <td>0</td>\n",
       "      <td>0</td>\n",
       "      <td>0</td>\n",
       "      <td>1</td>\n",
       "      <td>0</td>\n",
       "    </tr>\n",
       "  </tbody>\n",
       "</table>\n",
       "</div>"
      ],
      "text/plain": [
       "   satisfaction_level  average_montly_hours  time_spend_company  \\\n",
       "0                0.38                   157                   3   \n",
       "1                0.80                   262                   6   \n",
       "2                0.11                   272                   4   \n",
       "3                0.72                   223                   5   \n",
       "4                0.37                   159                   3   \n",
       "\n",
       "   Work_accident  promotion_last_5years  high  low  medium  \n",
       "0              0                      0     0    1       0  \n",
       "1              0                      0     0    0       1  \n",
       "2              0                      0     0    0       1  \n",
       "3              0                      0     0    1       0  \n",
       "4              0                      0     0    1       0  "
      ]
     },
     "execution_count": 19,
     "metadata": {},
     "output_type": "execute_result"
    }
   ],
   "source": [
    "X = data_encoded\n",
    "X.head()"
   ]
  },
  {
   "cell_type": "markdown",
   "id": "endangered-officer",
   "metadata": {
    "papermill": {
     "duration": 0.030138,
     "end_time": "2021-09-09T10:10:58.043275",
     "exception": false,
     "start_time": "2021-09-09T10:10:58.013137",
     "status": "completed"
    },
    "tags": []
   },
   "source": [
    "# Left data assign to y "
   ]
  },
  {
   "cell_type": "code",
   "execution_count": 20,
   "id": "electrical-partnership",
   "metadata": {
    "execution": {
     "iopub.execute_input": "2021-09-09T10:10:58.108086Z",
     "iopub.status.busy": "2021-09-09T10:10:58.107375Z",
     "iopub.status.idle": "2021-09-09T10:10:58.111735Z",
     "shell.execute_reply": "2021-09-09T10:10:58.111246Z",
     "shell.execute_reply.started": "2021-06-15T04:50:05.895584Z"
    },
    "papermill": {
     "duration": 0.037907,
     "end_time": "2021-09-09T10:10:58.111892",
     "exception": false,
     "start_time": "2021-09-09T10:10:58.073985",
     "status": "completed"
    },
    "tags": []
   },
   "outputs": [],
   "source": [
    "y = data.left"
   ]
  },
  {
   "cell_type": "code",
   "execution_count": 21,
   "id": "educational-glory",
   "metadata": {
    "execution": {
     "iopub.execute_input": "2021-09-09T10:10:58.178203Z",
     "iopub.status.busy": "2021-09-09T10:10:58.177533Z",
     "iopub.status.idle": "2021-09-09T10:10:59.129900Z",
     "shell.execute_reply": "2021-09-09T10:10:59.130432Z",
     "shell.execute_reply.started": "2021-06-15T04:50:18.963051Z"
    },
    "papermill": {
     "duration": 0.988024,
     "end_time": "2021-09-09T10:10:59.130614",
     "exception": false,
     "start_time": "2021-09-09T10:10:58.142590",
     "status": "completed"
    },
    "tags": []
   },
   "outputs": [],
   "source": [
    "from sklearn.model_selection import train_test_split\n",
    "X_train, X_test, y_train, y_test = train_test_split(X,y,train_size=0.3)"
   ]
  },
  {
   "cell_type": "markdown",
   "id": "spectacular-curtis",
   "metadata": {
    "papermill": {
     "duration": 0.030297,
     "end_time": "2021-09-09T10:10:59.192033",
     "exception": false,
     "start_time": "2021-09-09T10:10:59.161736",
     "status": "completed"
    },
    "tags": []
   },
   "source": [
    "# Logistic Regression Model For Prediction"
   ]
  },
  {
   "cell_type": "code",
   "execution_count": 22,
   "id": "revised-phoenix",
   "metadata": {
    "execution": {
     "iopub.execute_input": "2021-09-09T10:10:59.256669Z",
     "iopub.status.busy": "2021-09-09T10:10:59.255993Z",
     "iopub.status.idle": "2021-09-09T10:10:59.361066Z",
     "shell.execute_reply": "2021-09-09T10:10:59.360480Z",
     "shell.execute_reply.started": "2021-06-15T04:50:30.613307Z"
    },
    "papermill": {
     "duration": 0.138437,
     "end_time": "2021-09-09T10:10:59.361218",
     "exception": false,
     "start_time": "2021-09-09T10:10:59.222781",
     "status": "completed"
    },
    "tags": []
   },
   "outputs": [],
   "source": [
    "from sklearn.linear_model import LogisticRegression\n",
    "from sklearn.ensemble import RandomForestClassifier\n",
    "linear_model = LogisticRegression()\n",
    "# creating a RF classifier\n",
    "clf = RandomForestClassifier(n_estimators = 100)"
   ]
  },
  {
   "cell_type": "markdown",
   "id": "virtual-bidding",
   "metadata": {
    "papermill": {
     "duration": 0.030103,
     "end_time": "2021-09-09T10:10:59.421845",
     "exception": false,
     "start_time": "2021-09-09T10:10:59.391742",
     "status": "completed"
    },
    "tags": []
   },
   "source": [
    "# Train Model"
   ]
  },
  {
   "cell_type": "code",
   "execution_count": 23,
   "id": "subtle-bicycle",
   "metadata": {
    "execution": {
     "iopub.execute_input": "2021-09-09T10:10:59.489676Z",
     "iopub.status.busy": "2021-09-09T10:10:59.489054Z",
     "iopub.status.idle": "2021-09-09T10:10:59.586896Z",
     "shell.execute_reply": "2021-09-09T10:10:59.587892Z",
     "shell.execute_reply.started": "2021-06-15T04:50:42.785487Z"
    },
    "papermill": {
     "duration": 0.135119,
     "end_time": "2021-09-09T10:10:59.588159",
     "exception": false,
     "start_time": "2021-09-09T10:10:59.453040",
     "status": "completed"
    },
    "tags": []
   },
   "outputs": [
    {
     "name": "stderr",
     "output_type": "stream",
     "text": [
      "/home/zsahildhillon/.local/lib/python3.8/site-packages/sklearn/linear_model/_logistic.py:444: ConvergenceWarning: lbfgs failed to converge (status=1):\n",
      "STOP: TOTAL NO. of ITERATIONS REACHED LIMIT.\n",
      "\n",
      "Increase the number of iterations (max_iter) or scale the data as shown in:\n",
      "    https://scikit-learn.org/stable/modules/preprocessing.html\n",
      "Please also refer to the documentation for alternative solver options:\n",
      "    https://scikit-learn.org/stable/modules/linear_model.html#logistic-regression\n",
      "  n_iter_i = _check_optimize_result(\n"
     ]
    },
    {
     "data": {
      "text/html": [
       "<style>#sk-container-id-1 {color: black;background-color: white;}#sk-container-id-1 pre{padding: 0;}#sk-container-id-1 div.sk-toggleable {background-color: white;}#sk-container-id-1 label.sk-toggleable__label {cursor: pointer;display: block;width: 100%;margin-bottom: 0;padding: 0.3em;box-sizing: border-box;text-align: center;}#sk-container-id-1 label.sk-toggleable__label-arrow:before {content: \"▸\";float: left;margin-right: 0.25em;color: #696969;}#sk-container-id-1 label.sk-toggleable__label-arrow:hover:before {color: black;}#sk-container-id-1 div.sk-estimator:hover label.sk-toggleable__label-arrow:before {color: black;}#sk-container-id-1 div.sk-toggleable__content {max-height: 0;max-width: 0;overflow: hidden;text-align: left;background-color: #f0f8ff;}#sk-container-id-1 div.sk-toggleable__content pre {margin: 0.2em;color: black;border-radius: 0.25em;background-color: #f0f8ff;}#sk-container-id-1 input.sk-toggleable__control:checked~div.sk-toggleable__content {max-height: 200px;max-width: 100%;overflow: auto;}#sk-container-id-1 input.sk-toggleable__control:checked~label.sk-toggleable__label-arrow:before {content: \"▾\";}#sk-container-id-1 div.sk-estimator input.sk-toggleable__control:checked~label.sk-toggleable__label {background-color: #d4ebff;}#sk-container-id-1 div.sk-label input.sk-toggleable__control:checked~label.sk-toggleable__label {background-color: #d4ebff;}#sk-container-id-1 input.sk-hidden--visually {border: 0;clip: rect(1px 1px 1px 1px);clip: rect(1px, 1px, 1px, 1px);height: 1px;margin: -1px;overflow: hidden;padding: 0;position: absolute;width: 1px;}#sk-container-id-1 div.sk-estimator {font-family: monospace;background-color: #f0f8ff;border: 1px dotted black;border-radius: 0.25em;box-sizing: border-box;margin-bottom: 0.5em;}#sk-container-id-1 div.sk-estimator:hover {background-color: #d4ebff;}#sk-container-id-1 div.sk-parallel-item::after {content: \"\";width: 100%;border-bottom: 1px solid gray;flex-grow: 1;}#sk-container-id-1 div.sk-label:hover label.sk-toggleable__label {background-color: #d4ebff;}#sk-container-id-1 div.sk-serial::before {content: \"\";position: absolute;border-left: 1px solid gray;box-sizing: border-box;top: 0;bottom: 0;left: 50%;z-index: 0;}#sk-container-id-1 div.sk-serial {display: flex;flex-direction: column;align-items: center;background-color: white;padding-right: 0.2em;padding-left: 0.2em;position: relative;}#sk-container-id-1 div.sk-item {position: relative;z-index: 1;}#sk-container-id-1 div.sk-parallel {display: flex;align-items: stretch;justify-content: center;background-color: white;position: relative;}#sk-container-id-1 div.sk-item::before, #sk-container-id-1 div.sk-parallel-item::before {content: \"\";position: absolute;border-left: 1px solid gray;box-sizing: border-box;top: 0;bottom: 0;left: 50%;z-index: -1;}#sk-container-id-1 div.sk-parallel-item {display: flex;flex-direction: column;z-index: 1;position: relative;background-color: white;}#sk-container-id-1 div.sk-parallel-item:first-child::after {align-self: flex-end;width: 50%;}#sk-container-id-1 div.sk-parallel-item:last-child::after {align-self: flex-start;width: 50%;}#sk-container-id-1 div.sk-parallel-item:only-child::after {width: 0;}#sk-container-id-1 div.sk-dashed-wrapped {border: 1px dashed gray;margin: 0 0.4em 0.5em 0.4em;box-sizing: border-box;padding-bottom: 0.4em;background-color: white;}#sk-container-id-1 div.sk-label label {font-family: monospace;font-weight: bold;display: inline-block;line-height: 1.2em;}#sk-container-id-1 div.sk-label-container {text-align: center;}#sk-container-id-1 div.sk-container {/* jupyter's `normalize.less` sets `[hidden] { display: none; }` but bootstrap.min.css set `[hidden] { display: none !important; }` so we also need the `!important` here to be able to override the default hidden behavior on the sphinx rendered scikit-learn.org. See: https://github.com/scikit-learn/scikit-learn/issues/21755 */display: inline-block !important;position: relative;}#sk-container-id-1 div.sk-text-repr-fallback {display: none;}</style><div id=\"sk-container-id-1\" class=\"sk-top-container\"><div class=\"sk-text-repr-fallback\"><pre>RandomForestClassifier()</pre><b>In a Jupyter environment, please rerun this cell to show the HTML representation or trust the notebook. <br />On GitHub, the HTML representation is unable to render, please try loading this page with nbviewer.org.</b></div><div class=\"sk-container\" hidden><div class=\"sk-item\"><div class=\"sk-estimator sk-toggleable\"><input class=\"sk-toggleable__control sk-hidden--visually\" id=\"sk-estimator-id-1\" type=\"checkbox\" checked><label for=\"sk-estimator-id-1\" class=\"sk-toggleable__label sk-toggleable__label-arrow\">RandomForestClassifier</label><div class=\"sk-toggleable__content\"><pre>RandomForestClassifier()</pre></div></div></div></div></div>"
      ],
      "text/plain": [
       "RandomForestClassifier()"
      ]
     },
     "execution_count": 23,
     "metadata": {},
     "output_type": "execute_result"
    }
   ],
   "source": [
    "linear_model.fit(X_train, y_train)\n",
    "# Training the model on the training dataset\n",
    "# fit function is used to train the model using the training sets as parameters\n",
    "clf.fit(X_train, y_train)"
   ]
  },
  {
   "cell_type": "markdown",
   "id": "surface-cleanup",
   "metadata": {
    "papermill": {
     "duration": 0.053855,
     "end_time": "2021-09-09T10:10:59.696310",
     "exception": false,
     "start_time": "2021-09-09T10:10:59.642455",
     "status": "completed"
    },
    "tags": []
   },
   "source": [
    "# Prediction"
   ]
  },
  {
   "cell_type": "code",
   "execution_count": 26,
   "id": "natural-geography",
   "metadata": {
    "execution": {
     "iopub.execute_input": "2021-09-09T10:10:59.768353Z",
     "iopub.status.busy": "2021-09-09T10:10:59.767266Z",
     "iopub.status.idle": "2021-09-09T10:10:59.774220Z",
     "shell.execute_reply": "2021-09-09T10:10:59.775169Z",
     "shell.execute_reply.started": "2021-06-15T04:50:58.376701Z"
    },
    "papermill": {
     "duration": 0.046346,
     "end_time": "2021-09-09T10:10:59.775423",
     "exception": false,
     "start_time": "2021-09-09T10:10:59.729077",
     "status": "completed"
    },
    "tags": []
   },
   "outputs": [],
   "source": [
    "linear_model.predict(X_test)\n",
    "# performing predictions on the test dataset\n",
    "y_pred=clf.predict(X_test)\n"
   ]
  },
  {
   "cell_type": "markdown",
   "id": "inappropriate-facial",
   "metadata": {
    "papermill": {
     "duration": 0.054276,
     "end_time": "2021-09-09T10:10:59.884609",
     "exception": false,
     "start_time": "2021-09-09T10:10:59.830333",
     "status": "completed"
    },
    "tags": []
   },
   "source": [
    "# Model Score"
   ]
  },
  {
   "cell_type": "code",
   "execution_count": 27,
   "id": "pressing-technique",
   "metadata": {
    "execution": {
     "iopub.execute_input": "2021-09-09T10:10:59.956177Z",
     "iopub.status.busy": "2021-09-09T10:10:59.955136Z",
     "iopub.status.idle": "2021-09-09T10:10:59.963909Z",
     "shell.execute_reply": "2021-09-09T10:10:59.964869Z",
     "shell.execute_reply.started": "2021-06-15T04:51:12.088332Z"
    },
    "papermill": {
     "duration": 0.047496,
     "end_time": "2021-09-09T10:10:59.965132",
     "exception": false,
     "start_time": "2021-09-09T10:10:59.917636",
     "status": "completed"
    },
    "tags": []
   },
   "outputs": [
    {
     "name": "stdout",
     "output_type": "stream",
     "text": [
      "Accuracy Of The Model Using Linear Regression :  0.7662857142857142\n",
      "ACCURACY OF THE MODEL Using Random Forest Classifier :  0.9720952380952381\n"
     ]
    }
   ],
   "source": [
    "from sklearn import metrics \n",
    "print(\"Accuracy Of The Model Using Linear Regression : \",linear_model.score(X_test,y_test))\n",
    "print(\"ACCURACY OF THE MODEL Using Random Forest Classifier : \", metrics.accuracy_score(y_test, y_pred))"
   ]
  },
  {
   "cell_type": "markdown",
   "id": "dae5bcf6",
   "metadata": {},
   "source": [
    "# Converting to Pickle model"
   ]
  },
  {
   "cell_type": "code",
   "execution_count": 29,
   "id": "f543d506",
   "metadata": {},
   "outputs": [],
   "source": [
    "pickle.dump(clf,open('hr_rf_model.pkl','wb'))\n",
    "model=pickle.load(open('hr_rf_model.pkl','rb'))"
   ]
  }
 ],
 "metadata": {
  "kernelspec": {
   "display_name": "Python 3 (ipykernel)",
   "language": "python",
   "name": "python3"
  },
  "language_info": {
   "codemirror_mode": {
    "name": "ipython",
    "version": 3
   },
   "file_extension": ".py",
   "mimetype": "text/x-python",
   "name": "python",
   "nbconvert_exporter": "python",
   "pygments_lexer": "ipython3",
   "version": "3.8.10"
  },
  "papermill": {
   "default_parameters": {},
   "duration": 13.941728,
   "end_time": "2021-09-09T10:11:01.441966",
   "environment_variables": {},
   "exception": null,
   "input_path": "__notebook__.ipynb",
   "output_path": "__notebook__.ipynb",
   "parameters": {},
   "start_time": "2021-09-09T10:10:47.500238",
   "version": "2.3.3"
  }
 },
 "nbformat": 4,
 "nbformat_minor": 5
}
